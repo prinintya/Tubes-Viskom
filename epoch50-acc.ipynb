{
 "cells": [
  {
   "cell_type": "code",
   "execution_count": 1,
   "id": "9fa9f9d8",
   "metadata": {
    "execution": {
     "iopub.execute_input": "2023-12-30T21:14:49.708861Z",
     "iopub.status.busy": "2023-12-30T21:14:49.708419Z",
     "iopub.status.idle": "2023-12-30T21:15:06.240308Z",
     "shell.execute_reply": "2023-12-30T21:15:06.239093Z"
    },
    "papermill": {
     "duration": 16.541087,
     "end_time": "2023-12-30T21:15:06.243802",
     "exception": false,
     "start_time": "2023-12-30T21:14:49.702715",
     "status": "completed"
    },
    "tags": []
   },
   "outputs": [],
   "source": [
    "import tensorflow as tf\n",
    "from tensorflow.keras.optimizers import RMSprop\n",
    "from tensorflow.keras.preprocessing.image import ImageDataGenerator\n",
    "from keras.models import Sequential\n",
    "from keras.layers import Conv2D, MaxPooling2D, Flatten, Dense, Dropout, BatchNormalization\n",
    "from keras.optimizers import RMSprop\n",
    "from keras import regularizers"
   ]
  },
  {
   "cell_type": "code",
   "execution_count": 2,
   "id": "2370abfc",
   "metadata": {
    "execution": {
     "iopub.execute_input": "2023-12-30T21:15:06.254612Z",
     "iopub.status.busy": "2023-12-30T21:15:06.253836Z",
     "iopub.status.idle": "2023-12-30T21:15:06.260496Z",
     "shell.execute_reply": "2023-12-30T21:15:06.259229Z"
    },
    "papermill": {
     "duration": 0.014671,
     "end_time": "2023-12-30T21:15:06.263047",
     "exception": false,
     "start_time": "2023-12-30T21:15:06.248376",
     "status": "completed"
    },
    "tags": []
   },
   "outputs": [],
   "source": [
    "train_dir = '/kaggle/input/fruit-classification10-class/MY_data/train'\n",
    "validation_dir = '/kaggle/input/fruit-classification10-class/MY_data/test'"
   ]
  },
  {
   "cell_type": "code",
   "execution_count": 3,
   "id": "9608abb6",
   "metadata": {
    "execution": {
     "iopub.execute_input": "2023-12-30T21:15:06.271774Z",
     "iopub.status.busy": "2023-12-30T21:15:06.271326Z",
     "iopub.status.idle": "2023-12-30T21:15:06.479913Z",
     "shell.execute_reply": "2023-12-30T21:15:06.478705Z"
    },
    "papermill": {
     "duration": 0.216163,
     "end_time": "2023-12-30T21:15:06.482797",
     "exception": false,
     "start_time": "2023-12-30T21:15:06.266634",
     "status": "completed"
    },
    "tags": []
   },
   "outputs": [
    {
     "name": "stdout",
     "output_type": "stream",
     "text": [
      "Found 2301 images belonging to 10 classes.\n",
      "Found 1025 images belonging to 10 classes.\n"
     ]
    }
   ],
   "source": [
    "\n",
    "#Data Generator\n",
    "\n",
    "#Performing some operations for more data from a single picture\n",
    "train_datagen = ImageDataGenerator(\n",
    "                                    rescale=1./255,\n",
    "                                    rotation_range=40,\n",
    "                                    width_shift_range=0.2,\n",
    "                                    height_shift_range=0.2,\n",
    "                                    shear_range=0.2,\n",
    "                                    zoom_range=0.2,\n",
    "                                    horizontal_flip=True,             #if you want to divide test and validation then add parameter: validation_split=0.2, 8-2 split\n",
    "                                    fill_mode='nearest')\n",
    "\n",
    "#We can provide same eefects to test datagen but no need as we are only testing data\n",
    "test_datagen = ImageDataGenerator(rescale=1./255)\n",
    "\n",
    "# Flow training images in batches of 20 using train_datagen generator\n",
    "train_generator = train_datagen.flow_from_directory(\n",
    "                          train_dir,               # This is the source directory for training images\n",
    "                          target_size=(150, 150),  # All images will be resized to 150x150\n",
    "                          batch_size=20,           # Since we use binary_crossentropy loss, we need binary labels\n",
    "                          class_mode='binary')     #For categorical use categorical in class mode\n",
    "                          #subset='training')      #set as training data in case you have added validation split in the datagen\n",
    "\n",
    "# Flow validation images in batches of 20 using test_datagen generator\n",
    "validation_generator = test_datagen.flow_from_directory(\n",
    "                          validation_dir,\n",
    "                          target_size=(150, 150),\n",
    "                          batch_size=20,\n",
    "                          class_mode='binary')\n",
    "                          #subset='validation')   "
   ]
  },
  {
   "cell_type": "code",
   "execution_count": 4,
   "id": "f5dc9eb0",
   "metadata": {
    "execution": {
     "iopub.execute_input": "2023-12-30T21:15:06.492109Z",
     "iopub.status.busy": "2023-12-30T21:15:06.491648Z",
     "iopub.status.idle": "2023-12-30T21:15:06.854763Z",
     "shell.execute_reply": "2023-12-30T21:15:06.852997Z"
    },
    "papermill": {
     "duration": 0.37091,
     "end_time": "2023-12-30T21:15:06.857521",
     "exception": false,
     "start_time": "2023-12-30T21:15:06.486611",
     "status": "completed"
    },
    "tags": []
   },
   "outputs": [],
   "source": [
    "#Model Making\n",
    "\n",
    "model = tf.keras.models.Sequential([\n",
    "    tf.keras.layers.Conv2D(32, (3,3), activation='relu', input_shape=(150, 150, 3)),    #Change the shape as your requirement\n",
    "    tf.keras.layers.MaxPooling2D(2, 2),\n",
    "    \n",
    "    tf.keras.layers.Conv2D(64, (3,3), activation='relu'),\n",
    "    tf.keras.layers.MaxPooling2D(2,2),\n",
    "    \n",
    "    tf.keras.layers.Conv2D(128, (3,3), activation='relu'),\n",
    "    tf.keras.layers.MaxPooling2D(2,2),\n",
    "    \n",
    "    tf.keras.layers.Conv2D(128, (3,3), activation='relu'),\n",
    "    tf.keras.layers.MaxPooling2D(2,2),\n",
    "    \n",
    "    tf.keras.layers.Dropout(0.2),                       #Helps to avoid overfitting of model by dropping some weights\n",
    "    \n",
    "    tf.keras.layers.Flatten(),\n",
    "    \n",
    "    tf.keras.layers.Dense(512, activation='relu'),\n",
    "    tf.keras.layers.Dense(1, activation='sigmoid')      #Sigmoid is used data is in binary form for categorical use softmax\n",
    "])\n",
    "\n",
    "\n",
    "#Compile Model\n",
    "\n",
    "model.compile(loss='binary_crossentropy',               #For categorical use categorical)crossentropy\n",
    "              optimizer=RMSprop(lr=1e-4),\n",
    "              metrics=['accuracy'])"
   ]
  },
  {
   "cell_type": "code",
   "execution_count": 5,
   "id": "9c8156cf",
   "metadata": {
    "execution": {
     "iopub.execute_input": "2023-12-30T21:15:06.867023Z",
     "iopub.status.busy": "2023-12-30T21:15:06.866571Z",
     "iopub.status.idle": "2023-12-30T22:14:50.497311Z",
     "shell.execute_reply": "2023-12-30T22:14:50.495789Z"
    },
    "papermill": {
     "duration": 3583.639792,
     "end_time": "2023-12-30T22:14:50.501072",
     "exception": false,
     "start_time": "2023-12-30T21:15:06.861280",
     "status": "completed"
    },
    "tags": []
   },
   "outputs": [
    {
     "name": "stdout",
     "output_type": "stream",
     "text": [
      "Epoch 1/50\n",
      "100/100 [==============================] - 64s 621ms/step - loss: -39414468608.0000 - accuracy: 0.1010 - val_loss: -222798200832.0000 - val_accuracy: 0.1050\n",
      "Epoch 2/50\n",
      "100/100 [==============================] - 64s 640ms/step - loss: -1637412503552.0000 - accuracy: 0.0974 - val_loss: -5085692690432.0000 - val_accuracy: 0.1010\n",
      "Epoch 3/50\n",
      "100/100 [==============================] - 60s 596ms/step - loss: -15414193029120.0000 - accuracy: 0.1010 - val_loss: -35564422168576.0000 - val_accuracy: 0.1030\n",
      "Epoch 4/50\n",
      "100/100 [==============================] - 61s 613ms/step - loss: -75477020573696.0000 - accuracy: 0.0974 - val_loss: -149891523280896.0000 - val_accuracy: 0.1020\n",
      "Epoch 5/50\n",
      "100/100 [==============================] - 62s 619ms/step - loss: -269340234481664.0000 - accuracy: 0.1005 - val_loss: -468549860589568.0000 - val_accuracy: 0.1040\n",
      "Epoch 6/50\n",
      "100/100 [==============================] - 62s 618ms/step - loss: -731177581281280.0000 - accuracy: 0.0989 - val_loss: -1186131588677632.0000 - val_accuracy: 0.1020\n",
      "Epoch 7/50\n",
      "100/100 [==============================] - 61s 610ms/step - loss: -1744975687581696.0000 - accuracy: 0.1030 - val_loss: -2668758728441856.0000 - val_accuracy: 0.1010\n",
      "Epoch 8/50\n",
      "100/100 [==============================] - 62s 615ms/step - loss: -3737031180025856.0000 - accuracy: 0.0975 - val_loss: -5480648852635648.0000 - val_accuracy: 0.1010\n",
      "Epoch 9/50\n",
      "100/100 [==============================] - 60s 594ms/step - loss: -7264827659517952.0000 - accuracy: 0.0989 - val_loss: -10346498906652672.0000 - val_accuracy: 0.1020\n",
      "Epoch 10/50\n",
      "100/100 [==============================] - 61s 607ms/step - loss: -13026224565649408.0000 - accuracy: 0.0985 - val_loss: -18179097620381696.0000 - val_accuracy: 0.1040\n",
      "Epoch 11/50\n",
      "100/100 [==============================] - 63s 631ms/step - loss: -22577912930631680.0000 - accuracy: 0.1015 - val_loss: -30510472713207808.0000 - val_accuracy: 0.1010\n",
      "Epoch 12/50\n",
      "100/100 [==============================] - 63s 626ms/step - loss: -37226251080957952.0000 - accuracy: 0.1010 - val_loss: -48973639470546944.0000 - val_accuracy: 0.1020\n",
      "Epoch 13/50\n",
      "100/100 [==============================] - 60s 602ms/step - loss: -58766280869543936.0000 - accuracy: 0.0985 - val_loss: -76782255632023552.0000 - val_accuracy: 0.1000\n",
      "Epoch 14/50\n",
      "100/100 [==============================] - 60s 595ms/step - loss: -88767344691642368.0000 - accuracy: 0.1030 - val_loss: -114532252204924928.0000 - val_accuracy: 0.1040\n",
      "Epoch 15/50\n",
      "100/100 [==============================] - 61s 606ms/step - loss: -132940396136235008.0000 - accuracy: 0.1005 - val_loss: -167942927899688960.0000 - val_accuracy: 0.1040\n",
      "Epoch 16/50\n",
      "100/100 [==============================] - 59s 592ms/step - loss: -192608409684541440.0000 - accuracy: 0.0974 - val_loss: -243021842451791872.0000 - val_accuracy: 0.1030\n",
      "Epoch 17/50\n",
      "100/100 [==============================] - 60s 594ms/step - loss: -273308989750509568.0000 - accuracy: 0.0984 - val_loss: -338690160206020608.0000 - val_accuracy: 0.1020\n",
      "Epoch 18/50\n",
      "100/100 [==============================] - 60s 597ms/step - loss: -378346211725279232.0000 - accuracy: 0.1005 - val_loss: -466526047840501760.0000 - val_accuracy: 0.1020\n",
      "Epoch 19/50\n",
      "100/100 [==============================] - 59s 592ms/step - loss: -511357947268300800.0000 - accuracy: 0.1030 - val_loss: -630154646731620352.0000 - val_accuracy: 0.1030\n",
      "Epoch 20/50\n",
      "100/100 [==============================] - 60s 595ms/step - loss: -696210006793519104.0000 - accuracy: 0.0999 - val_loss: -840133192651374592.0000 - val_accuracy: 0.1040\n",
      "Epoch 21/50\n",
      "100/100 [==============================] - 60s 599ms/step - loss: -922460500170637312.0000 - accuracy: 0.1015 - val_loss: -1110094358473867264.0000 - val_accuracy: 0.1040\n",
      "Epoch 22/50\n",
      "100/100 [==============================] - 61s 608ms/step - loss: -1215896170526670848.0000 - accuracy: 0.1015 - val_loss: -1430902508242337792.0000 - val_accuracy: 0.1050\n",
      "Epoch 23/50\n",
      "100/100 [==============================] - 61s 606ms/step - loss: -1521917469449519104.0000 - accuracy: 0.0999 - val_loss: -1835932492784205824.0000 - val_accuracy: 0.1030\n",
      "Epoch 24/50\n",
      "100/100 [==============================] - 59s 591ms/step - loss: -1981391284069203968.0000 - accuracy: 0.0994 - val_loss: -2365476396735660032.0000 - val_accuracy: 0.1020\n",
      "Epoch 25/50\n",
      "100/100 [==============================] - 59s 591ms/step - loss: -2496696237563052032.0000 - accuracy: 0.1015 - val_loss: -2944605388881788928.0000 - val_accuracy: 0.1040\n",
      "Epoch 26/50\n",
      "100/100 [==============================] - 60s 598ms/step - loss: -3135345092655579136.0000 - accuracy: 0.0979 - val_loss: -3723191287864623104.0000 - val_accuracy: 0.1020\n",
      "Epoch 27/50\n",
      "100/100 [==============================] - 60s 603ms/step - loss: -3889124085170438144.0000 - accuracy: 0.0974 - val_loss: -4633487684738744320.0000 - val_accuracy: 0.1010\n",
      "Epoch 28/50\n",
      "100/100 [==============================] - 59s 593ms/step - loss: -4856755065630752768.0000 - accuracy: 0.1020 - val_loss: -5700252007948877824.0000 - val_accuracy: 0.1040\n",
      "Epoch 29/50\n",
      "100/100 [==============================] - 59s 585ms/step - loss: -5855187489953677312.0000 - accuracy: 0.0989 - val_loss: -6943843089672830976.0000 - val_accuracy: 0.1040\n",
      "Epoch 30/50\n",
      "100/100 [==============================] - 60s 595ms/step - loss: -7217569258186735616.0000 - accuracy: 0.0974 - val_loss: -8412394800195567616.0000 - val_accuracy: 0.1010\n",
      "Epoch 31/50\n",
      "100/100 [==============================] - 60s 597ms/step - loss: -8694861536394477568.0000 - accuracy: 0.1030 - val_loss: -10171694218741809152.0000 - val_accuracy: 0.1010\n",
      "Epoch 32/50\n",
      "100/100 [==============================] - 63s 634ms/step - loss: -10490526202517782528.0000 - accuracy: 0.1030 - val_loss: -12236292282193543168.0000 - val_accuracy: 0.1020\n",
      "Epoch 33/50\n",
      "100/100 [==============================] - 62s 617ms/step - loss: -12765542204223520768.0000 - accuracy: 0.1015 - val_loss: -14629034093396885504.0000 - val_accuracy: 0.1040\n",
      "Epoch 34/50\n",
      "100/100 [==============================] - 60s 598ms/step - loss: -14894679401202450432.0000 - accuracy: 0.0994 - val_loss: -17235497875295698944.0000 - val_accuracy: 0.1050\n",
      "Epoch 35/50\n",
      "100/100 [==============================] - 59s 591ms/step - loss: -17693899666078302208.0000 - accuracy: 0.1005 - val_loss: -20331474129485037568.0000 - val_accuracy: 0.0990\n",
      "Epoch 36/50\n",
      "100/100 [==============================] - 60s 602ms/step - loss: -20780132048222289920.0000 - accuracy: 0.1005 - val_loss: -23863817961436348416.0000 - val_accuracy: 0.1050\n",
      "Epoch 37/50\n",
      "100/100 [==============================] - 60s 599ms/step - loss: -24562361887818252288.0000 - accuracy: 0.1010 - val_loss: -28190831623339507712.0000 - val_accuracy: 0.1030\n",
      "Epoch 38/50\n",
      "100/100 [==============================] - 60s 601ms/step - loss: -28553593494691643392.0000 - accuracy: 0.1025 - val_loss: -32898843656453095424.0000 - val_accuracy: 0.1020\n",
      "Epoch 39/50\n",
      "100/100 [==============================] - 60s 598ms/step - loss: -33532868240517103616.0000 - accuracy: 0.1010 - val_loss: -38322976408830214144.0000 - val_accuracy: 0.1030\n",
      "Epoch 40/50\n",
      "100/100 [==============================] - 59s 589ms/step - loss: -38625262941631414272.0000 - accuracy: 0.0984 - val_loss: -44051964153171017728.0000 - val_accuracy: 0.1030\n",
      "Epoch 41/50\n",
      "100/100 [==============================] - 60s 599ms/step - loss: -44095817074933235712.0000 - accuracy: 0.1010 - val_loss: -50963476653184909312.0000 - val_accuracy: 0.1010\n",
      "Epoch 42/50\n",
      "100/100 [==============================] - 61s 609ms/step - loss: -52002862587107606528.0000 - accuracy: 0.1005 - val_loss: -58484351691451793408.0000 - val_accuracy: 0.1040\n",
      "Epoch 43/50\n",
      "100/100 [==============================] - 61s 608ms/step - loss: -59570761538671214592.0000 - accuracy: 0.1035 - val_loss: -67336000837188059136.0000 - val_accuracy: 0.1030\n",
      "Epoch 44/50\n",
      "100/100 [==============================] - 62s 620ms/step - loss: -67996517054411702272.0000 - accuracy: 0.1025 - val_loss: -76470787421216178176.0000 - val_accuracy: 0.1030\n",
      "Epoch 45/50\n",
      "100/100 [==============================] - 61s 607ms/step - loss: -76898268746002464768.0000 - accuracy: 0.1030 - val_loss: -87833905842746294272.0000 - val_accuracy: 0.1040\n",
      "Epoch 46/50\n",
      "100/100 [==============================] - 60s 603ms/step - loss: -87990493890727641088.0000 - accuracy: 0.1020 - val_loss: -99053964607363219456.0000 - val_accuracy: 0.1020\n",
      "Epoch 47/50\n",
      "100/100 [==============================] - 61s 604ms/step - loss: -100580860802902261760.0000 - accuracy: 0.0985 - val_loss: -113313328597850652672.0000 - val_accuracy: 0.1030\n",
      "Epoch 48/50\n",
      "100/100 [==============================] - 60s 599ms/step - loss: -113578953014935289856.0000 - accuracy: 0.1020 - val_loss: -127135086960483237888.0000 - val_accuracy: 0.1050\n",
      "Epoch 49/50\n",
      "100/100 [==============================] - 60s 604ms/step - loss: -128431437557910208512.0000 - accuracy: 0.1045 - val_loss: -143375234342548668416.0000 - val_accuracy: 0.1050\n",
      "Epoch 50/50\n",
      "100/100 [==============================] - 59s 592ms/step - loss: -144444065197863206912.0000 - accuracy: 0.1005 - val_loss: -160390458257358979072.0000 - val_accuracy: 0.1030\n"
     ]
    }
   ],
   "source": [
    "history = model.fit(\n",
    "      train_generator,\n",
    "      steps_per_epoch=100,  #steps = total_image_train / batch_size\n",
    "      epochs=50,            #No of epochs\n",
    "      validation_data=validation_generator,\n",
    "      validation_steps=50)  #steps = total_image_test / batch_size"
   ]
  },
  {
   "cell_type": "code",
   "execution_count": 6,
   "id": "865cae83",
   "metadata": {
    "execution": {
     "iopub.execute_input": "2023-12-30T22:14:51.505358Z",
     "iopub.status.busy": "2023-12-30T22:14:51.504912Z",
     "iopub.status.idle": "2023-12-30T22:15:03.065373Z",
     "shell.execute_reply": "2023-12-30T22:15:03.063570Z"
    },
    "papermill": {
     "duration": 12.062801,
     "end_time": "2023-12-30T22:15:03.068081",
     "exception": false,
     "start_time": "2023-12-30T22:14:51.005280",
     "status": "completed"
    },
    "tags": []
   },
   "outputs": [
    {
     "name": "stdout",
     "output_type": "stream",
     "text": [
      "52/52 [==============================] - 8s 150ms/step\n",
      "Accuracy: 0.0868\n",
      "Precision: 0.0075\n",
      "Recall: 0.0868\n",
      "F1 Score: 0.0182\n"
     ]
    }
   ],
   "source": [
    "import numpy as np\n",
    "from sklearn.metrics import accuracy_score, precision_score, recall_score, f1_score\n",
    "from sklearn.utils.class_weight import compute_sample_weight\n",
    "\n",
    "# Predict the classes for the validation set\n",
    "y_pred = model.predict(validation_generator)\n",
    "y_pred_classes = np.argmax(y_pred, axis=1)\n",
    "\n",
    "# Get true classes\n",
    "y_true = validation_generator.classes\n",
    "\n",
    "# Calculate sample weights\n",
    "sample_weights = compute_sample_weight('balanced', y_true)\n",
    "\n",
    "# Calculate metrics\n",
    "accuracy = accuracy_score(y_true, y_pred_classes)\n",
    "precision = precision_score(y_true, y_pred_classes, average='weighted', zero_division=0)\n",
    "recall = recall_score(y_true, y_pred_classes, average='weighted', zero_division=0)\n",
    "f1 = f1_score(y_true, y_pred_classes, average='weighted', sample_weight=sample_weights, zero_division=0)\n",
    "\n",
    "\n",
    "print(f'Accuracy: {accuracy:.4f}')\n",
    "print(f'Precision: {precision:.4f}')\n",
    "print(f'Recall: {recall:.4f}')\n",
    "print(f'F1 Score: {f1:.4f}')\n"
   ]
  }
 ],
 "metadata": {
  "kaggle": {
   "accelerator": "none",
   "dataSources": [
    {
     "datasetId": 2529046,
     "sourceId": 4292212,
     "sourceType": "datasetVersion"
    }
   ],
   "dockerImageVersionId": 30626,
   "isGpuEnabled": false,
   "isInternetEnabled": true,
   "language": "python",
   "sourceType": "notebook"
  },
  "kernelspec": {
   "display_name": "Python 3",
   "language": "python",
   "name": "python3"
  },
  "language_info": {
   "codemirror_mode": {
    "name": "ipython",
    "version": 3
   },
   "file_extension": ".py",
   "mimetype": "text/x-python",
   "name": "python",
   "nbconvert_exporter": "python",
   "pygments_lexer": "ipython3",
   "version": "3.10.12"
  },
  "papermill": {
   "default_parameters": {},
   "duration": 3620.108795,
   "end_time": "2023-12-30T22:15:06.061006",
   "environment_variables": {},
   "exception": null,
   "input_path": "__notebook__.ipynb",
   "output_path": "__notebook__.ipynb",
   "parameters": {},
   "start_time": "2023-12-30T21:14:45.952211",
   "version": "2.4.0"
  }
 },
 "nbformat": 4,
 "nbformat_minor": 5
}
