{
 "cells": [
  {
   "cell_type": "code",
   "execution_count": 1,
   "id": "e317b23a",
   "metadata": {
    "execution": {
     "iopub.execute_input": "2023-12-30T15:07:44.329846Z",
     "iopub.status.busy": "2023-12-30T15:07:44.329369Z",
     "iopub.status.idle": "2023-12-30T15:07:58.794205Z",
     "shell.execute_reply": "2023-12-30T15:07:58.792253Z"
    },
    "papermill": {
     "duration": 14.472355,
     "end_time": "2023-12-30T15:07:58.796921",
     "exception": false,
     "start_time": "2023-12-30T15:07:44.324566",
     "status": "completed"
    },
    "tags": []
   },
   "outputs": [],
   "source": [
    "import tensorflow as tf\n",
    "from tensorflow.keras.optimizers import RMSprop\n",
    "from tensorflow.keras.preprocessing.image import ImageDataGenerator\n",
    "from keras.models import Sequential\n",
    "from keras.layers import Conv2D, MaxPooling2D, Flatten, Dense, Dropout, BatchNormalization\n",
    "from keras.optimizers import RMSprop\n",
    "from keras import regularizers"
   ]
  },
  {
   "cell_type": "code",
   "execution_count": 2,
   "id": "f00a74ac",
   "metadata": {
    "execution": {
     "iopub.execute_input": "2023-12-30T15:07:58.803640Z",
     "iopub.status.busy": "2023-12-30T15:07:58.802881Z",
     "iopub.status.idle": "2023-12-30T15:07:58.809060Z",
     "shell.execute_reply": "2023-12-30T15:07:58.807448Z"
    },
    "papermill": {
     "duration": 0.01212,
     "end_time": "2023-12-30T15:07:58.811706",
     "exception": false,
     "start_time": "2023-12-30T15:07:58.799586",
     "status": "completed"
    },
    "tags": []
   },
   "outputs": [],
   "source": [
    "train_dir = '/kaggle/input/fruit-classification10-class/MY_data/train'\n",
    "validation_dir = '/kaggle/input/fruit-classification10-class/MY_data/test'"
   ]
  },
  {
   "cell_type": "code",
   "execution_count": 3,
   "id": "75c4ccad",
   "metadata": {
    "execution": {
     "iopub.execute_input": "2023-12-30T15:07:58.818262Z",
     "iopub.status.busy": "2023-12-30T15:07:58.817856Z",
     "iopub.status.idle": "2023-12-30T15:07:59.119683Z",
     "shell.execute_reply": "2023-12-30T15:07:59.118069Z"
    },
    "papermill": {
     "duration": 0.307762,
     "end_time": "2023-12-30T15:07:59.121995",
     "exception": false,
     "start_time": "2023-12-30T15:07:58.814233",
     "status": "completed"
    },
    "tags": []
   },
   "outputs": [
    {
     "name": "stdout",
     "output_type": "stream",
     "text": [
      "Found 2301 images belonging to 10 classes.\n",
      "Found 1025 images belonging to 10 classes.\n"
     ]
    }
   ],
   "source": [
    "\n",
    "#Data Generator\n",
    "\n",
    "#Performing some operations for more data from a single picture\n",
    "train_datagen = ImageDataGenerator(\n",
    "                                    rescale=1./255,\n",
    "                                    rotation_range=40,\n",
    "                                    width_shift_range=0.2,\n",
    "                                    height_shift_range=0.2,\n",
    "                                    shear_range=0.2,\n",
    "                                    zoom_range=0.2,\n",
    "                                    horizontal_flip=True,             #if you want to divide test and validation then add parameter: validation_split=0.2, 8-2 split\n",
    "                                    fill_mode='nearest')\n",
    "\n",
    "#We can provide same eefects to test datagen but no need as we are only testing data\n",
    "test_datagen = ImageDataGenerator(rescale=1./255)\n",
    "\n",
    "# Flow training images in batches of 20 using train_datagen generator\n",
    "train_generator = train_datagen.flow_from_directory(\n",
    "                          train_dir,               # This is the source directory for training images\n",
    "                          target_size=(150, 150),  # All images will be resized to 150x150\n",
    "                          batch_size=20,           # Since we use binary_crossentropy loss, we need binary labels\n",
    "                          class_mode='binary')     #For categorical use categorical in class mode\n",
    "                          #subset='training')      #set as training data in case you have added validation split in the datagen\n",
    "\n",
    "# Flow validation images in batches of 20 using test_datagen generator\n",
    "validation_generator = test_datagen.flow_from_directory(\n",
    "                          validation_dir,\n",
    "                          target_size=(150, 150),\n",
    "                          batch_size=20,\n",
    "                          class_mode='binary')\n",
    "                          #subset='validation')   "
   ]
  },
  {
   "cell_type": "code",
   "execution_count": 4,
   "id": "29369e60",
   "metadata": {
    "execution": {
     "iopub.execute_input": "2023-12-30T15:07:59.127939Z",
     "iopub.status.busy": "2023-12-30T15:07:59.127556Z",
     "iopub.status.idle": "2023-12-30T15:07:59.430029Z",
     "shell.execute_reply": "2023-12-30T15:07:59.428773Z"
    },
    "papermill": {
     "duration": 0.308191,
     "end_time": "2023-12-30T15:07:59.432561",
     "exception": false,
     "start_time": "2023-12-30T15:07:59.124370",
     "status": "completed"
    },
    "tags": []
   },
   "outputs": [],
   "source": [
    "#Model Making\n",
    "\n",
    "model = tf.keras.models.Sequential([\n",
    "    tf.keras.layers.Conv2D(32, (3,3), activation='relu', input_shape=(150, 150, 3)),    #Change the shape as your requirement\n",
    "    tf.keras.layers.MaxPooling2D(2, 2),\n",
    "    \n",
    "    tf.keras.layers.Conv2D(64, (3,3), activation='relu'),\n",
    "    tf.keras.layers.MaxPooling2D(2,2),\n",
    "    \n",
    "    tf.keras.layers.Conv2D(128, (3,3), activation='relu'),\n",
    "    tf.keras.layers.MaxPooling2D(2,2),\n",
    "    \n",
    "    tf.keras.layers.Conv2D(128, (3,3), activation='relu'),\n",
    "    tf.keras.layers.MaxPooling2D(2,2),\n",
    "    \n",
    "    tf.keras.layers.Dropout(0.2),                       #Helps to avoid overfitting of model by dropping some weights\n",
    "    \n",
    "    tf.keras.layers.Flatten(),\n",
    "    \n",
    "    tf.keras.layers.Dense(512, activation='relu'),\n",
    "    tf.keras.layers.Dense(1, activation='sigmoid')      #Sigmoid is used data is in binary form for categorical use softmax\n",
    "])\n",
    "\n",
    "\n",
    "#Compile Model\n",
    "\n",
    "model.compile(loss='binary_crossentropy',               #For categorical use categorical)crossentropy\n",
    "              optimizer=RMSprop(lr=1e-4),\n",
    "              metrics=['accuracy'])"
   ]
  },
  {
   "cell_type": "code",
   "execution_count": 5,
   "id": "f905a9d7",
   "metadata": {
    "execution": {
     "iopub.execute_input": "2023-12-30T15:07:59.439605Z",
     "iopub.status.busy": "2023-12-30T15:07:59.438292Z",
     "iopub.status.idle": "2023-12-30T15:52:58.596174Z",
     "shell.execute_reply": "2023-12-30T15:52:58.595073Z"
    },
    "papermill": {
     "duration": 2699.164027,
     "end_time": "2023-12-30T15:52:58.598938",
     "exception": false,
     "start_time": "2023-12-30T15:07:59.434911",
     "status": "completed"
    },
    "tags": []
   },
   "outputs": [
    {
     "name": "stdout",
     "output_type": "stream",
     "text": [
      "Epoch 1/50\n",
      "100/100 [==============================] - 46s 446ms/step - loss: -40901435392.0000 - accuracy: 0.1015 - val_loss: -247745757184.0000 - val_accuracy: 0.1010\n",
      "Epoch 2/50\n",
      "100/100 [==============================] - 41s 407ms/step - loss: -1915105181696.0000 - accuracy: 0.0954 - val_loss: -5762465660928.0000 - val_accuracy: 0.1030\n",
      "Epoch 3/50\n",
      "100/100 [==============================] - 41s 409ms/step - loss: -17620189315072.0000 - accuracy: 0.0994 - val_loss: -40999455817728.0000 - val_accuracy: 0.0980\n",
      "Epoch 4/50\n",
      "100/100 [==============================] - 40s 404ms/step - loss: -88496274407424.0000 - accuracy: 0.0979 - val_loss: -169287461371904.0000 - val_accuracy: 0.1040\n",
      "Epoch 5/50\n",
      "100/100 [==============================] - 41s 405ms/step - loss: -302598196297728.0000 - accuracy: 0.1015 - val_loss: -529295327887360.0000 - val_accuracy: 0.1030\n",
      "Epoch 6/50\n",
      "100/100 [==============================] - 40s 402ms/step - loss: -837193882927104.0000 - accuracy: 0.1035 - val_loss: -1349808228925440.0000 - val_accuracy: 0.1040\n",
      "Epoch 7/50\n",
      "100/100 [==============================] - 40s 399ms/step - loss: -1995740977037312.0000 - accuracy: 0.0994 - val_loss: -3014243481812992.0000 - val_accuracy: 0.1040\n",
      "Epoch 8/50\n",
      "100/100 [==============================] - 40s 401ms/step - loss: -4205313611792384.0000 - accuracy: 0.0980 - val_loss: -6164386171322368.0000 - val_accuracy: 0.1030\n",
      "Epoch 9/50\n",
      "100/100 [==============================] - 40s 401ms/step - loss: -8145824773046272.0000 - accuracy: 0.0994 - val_loss: -11554301692346368.0000 - val_accuracy: 0.1020\n",
      "Epoch 10/50\n",
      "100/100 [==============================] - 40s 401ms/step - loss: -14769901830930432.0000 - accuracy: 0.1010 - val_loss: -20434273278361600.0000 - val_accuracy: 0.1030\n",
      "Epoch 11/50\n",
      "100/100 [==============================] - 40s 404ms/step - loss: -25345250553757696.0000 - accuracy: 0.1005 - val_loss: -34211456769589248.0000 - val_accuracy: 0.1050\n",
      "Epoch 12/50\n",
      "100/100 [==============================] - 41s 409ms/step - loss: -41239837889527808.0000 - accuracy: 0.1025 - val_loss: -55148569786580992.0000 - val_accuracy: 0.1010\n",
      "Epoch 13/50\n",
      "100/100 [==============================] - 40s 402ms/step - loss: -65170506604609536.0000 - accuracy: 0.0989 - val_loss: -84673106987188224.0000 - val_accuracy: 0.1010\n",
      "Epoch 14/50\n",
      "100/100 [==============================] - 40s 401ms/step - loss: -98937526600859648.0000 - accuracy: 0.1025 - val_loss: -128398073083723776.0000 - val_accuracy: 0.1030\n",
      "Epoch 15/50\n",
      "100/100 [==============================] - 41s 405ms/step - loss: -150103884314968064.0000 - accuracy: 0.0989 - val_loss: -189044342743105536.0000 - val_accuracy: 0.1030\n",
      "Epoch 16/50\n",
      "100/100 [==============================] - 41s 405ms/step - loss: -212210485804662784.0000 - accuracy: 0.1005 - val_loss: -268680062977441792.0000 - val_accuracy: 0.1030\n",
      "Epoch 17/50\n",
      "100/100 [==============================] - 40s 400ms/step - loss: -302217710245249024.0000 - accuracy: 0.0994 - val_loss: -377246665737764864.0000 - val_accuracy: 0.1050\n",
      "Epoch 18/50\n",
      "100/100 [==============================] - 41s 411ms/step - loss: -420256777477554176.0000 - accuracy: 0.0994 - val_loss: -516965216051789824.0000 - val_accuracy: 0.1030\n",
      "Epoch 19/50\n",
      "100/100 [==============================] - 41s 410ms/step - loss: -579962490679459840.0000 - accuracy: 0.0949 - val_loss: -706123959543791616.0000 - val_accuracy: 0.1030\n",
      "Epoch 20/50\n",
      "100/100 [==============================] - 41s 407ms/step - loss: -768464619571249152.0000 - accuracy: 0.0984 - val_loss: -938534191937617920.0000 - val_accuracy: 0.1030\n",
      "Epoch 21/50\n",
      "100/100 [==============================] - 41s 407ms/step - loss: -1037922140348743680.0000 - accuracy: 0.0984 - val_loss: -1249584244729053184.0000 - val_accuracy: 0.1040\n",
      "Epoch 22/50\n",
      "100/100 [==============================] - 41s 408ms/step - loss: -1338980587381194752.0000 - accuracy: 0.1020 - val_loss: -1615052838830866432.0000 - val_accuracy: 0.1040\n",
      "Epoch 23/50\n",
      "100/100 [==============================] - 41s 405ms/step - loss: -1734408399438741504.0000 - accuracy: 0.0989 - val_loss: -2080545105223090176.0000 - val_accuracy: 0.1030\n",
      "Epoch 24/50\n",
      "100/100 [==============================] - 41s 410ms/step - loss: -2221367805729570816.0000 - accuracy: 0.1020 - val_loss: -2658529230886797312.0000 - val_accuracy: 0.1000\n",
      "Epoch 25/50\n",
      "100/100 [==============================] - 41s 410ms/step - loss: -2774794614064807936.0000 - accuracy: 0.1010 - val_loss: -3347018673188503552.0000 - val_accuracy: 0.1030\n",
      "Epoch 26/50\n",
      "100/100 [==============================] - 41s 410ms/step - loss: -3528297629161095168.0000 - accuracy: 0.1015 - val_loss: -4147131360575750144.0000 - val_accuracy: 0.1030\n",
      "Epoch 27/50\n",
      "100/100 [==============================] - 41s 411ms/step - loss: -4408846189189922816.0000 - accuracy: 0.0989 - val_loss: -5119497662738989056.0000 - val_accuracy: 0.1020\n",
      "Epoch 28/50\n",
      "100/100 [==============================] - 41s 408ms/step - loss: -5409667577402097664.0000 - accuracy: 0.0979 - val_loss: -6327213329316052992.0000 - val_accuracy: 0.1020\n",
      "Epoch 29/50\n",
      "100/100 [==============================] - 41s 413ms/step - loss: -6591996070249627648.0000 - accuracy: 0.1010 - val_loss: -7764645012482031616.0000 - val_accuracy: 0.1020\n",
      "Epoch 30/50\n",
      "100/100 [==============================] - 41s 407ms/step - loss: -8074679253968355328.0000 - accuracy: 0.0979 - val_loss: -9352389830769639424.0000 - val_accuracy: 0.1040\n",
      "Epoch 31/50\n",
      "100/100 [==============================] - 41s 412ms/step - loss: -9930317331584516096.0000 - accuracy: 0.1005 - val_loss: -11406452373804023808.0000 - val_accuracy: 0.1040\n",
      "Epoch 32/50\n",
      "100/100 [==============================] - 41s 407ms/step - loss: -11752666595158130688.0000 - accuracy: 0.0994 - val_loss: -13624530165865381888.0000 - val_accuracy: 0.1030\n",
      "Epoch 33/50\n",
      "100/100 [==============================] - 41s 406ms/step - loss: -14013652828493447168.0000 - accuracy: 0.1005 - val_loss: -16109002033150820352.0000 - val_accuracy: 0.1020\n",
      "Epoch 34/50\n",
      "100/100 [==============================] - 41s 403ms/step - loss: -16758531930189725696.0000 - accuracy: 0.1010 - val_loss: -19401480806433030144.0000 - val_accuracy: 0.1000\n",
      "Epoch 35/50\n",
      "100/100 [==============================] - 41s 409ms/step - loss: -19812410083174776832.0000 - accuracy: 0.1015 - val_loss: -22762595493567528960.0000 - val_accuracy: 0.1050\n",
      "Epoch 36/50\n",
      "100/100 [==============================] - 41s 408ms/step - loss: -23121517870315470848.0000 - accuracy: 0.0969 - val_loss: -26736760480954580992.0000 - val_accuracy: 0.1030\n",
      "Epoch 37/50\n",
      "100/100 [==============================] - 41s 408ms/step - loss: -27366692682740006912.0000 - accuracy: 0.1030 - val_loss: -31357741770683187200.0000 - val_accuracy: 0.1010\n",
      "Epoch 38/50\n",
      "100/100 [==============================] - 40s 402ms/step - loss: -31825357468906553344.0000 - accuracy: 0.1025 - val_loss: -36579274112479789056.0000 - val_accuracy: 0.1010\n",
      "Epoch 39/50\n",
      "100/100 [==============================] - 41s 408ms/step - loss: -37910079006274748416.0000 - accuracy: 0.0974 - val_loss: -42443646922571907072.0000 - val_accuracy: 0.1030\n",
      "Epoch 40/50\n",
      "100/100 [==============================] - 40s 398ms/step - loss: -43268610496892239872.0000 - accuracy: 0.0994 - val_loss: -48862987231667683328.0000 - val_accuracy: 0.1040\n",
      "Epoch 41/50\n",
      "100/100 [==============================] - 40s 401ms/step - loss: -49817134626158673920.0000 - accuracy: 0.1010 - val_loss: -56514902065732911104.0000 - val_accuracy: 0.1030\n",
      "Epoch 42/50\n",
      "100/100 [==============================] - 40s 400ms/step - loss: -57203662537650864128.0000 - accuracy: 0.1025 - val_loss: -65198317136326426624.0000 - val_accuracy: 0.1010\n",
      "Epoch 43/50\n",
      "100/100 [==============================] - 40s 398ms/step - loss: -65795567454487838720.0000 - accuracy: 0.1010 - val_loss: -74527132338284920832.0000 - val_accuracy: 0.1040\n",
      "Epoch 44/50\n",
      "100/100 [==============================] - 40s 403ms/step - loss: -75754187314882936832.0000 - accuracy: 0.1020 - val_loss: -84970751175738523648.0000 - val_accuracy: 0.1030\n",
      "Epoch 45/50\n",
      "100/100 [==============================] - 41s 410ms/step - loss: -86580911187825786880.0000 - accuracy: 0.0970 - val_loss: -96430635416605949952.0000 - val_accuracy: 0.1030\n",
      "Epoch 46/50\n",
      "100/100 [==============================] - 41s 406ms/step - loss: -98369954025677258752.0000 - accuracy: 0.0984 - val_loss: -110683956491187126272.0000 - val_accuracy: 0.0990\n",
      "Epoch 47/50\n",
      "100/100 [==============================] - 41s 410ms/step - loss: -110403616210476335104.0000 - accuracy: 0.1015 - val_loss: -124700926546261573632.0000 - val_accuracy: 0.1020\n",
      "Epoch 48/50\n",
      "100/100 [==============================] - 41s 410ms/step - loss: -125579154861877886976.0000 - accuracy: 0.1020 - val_loss: -141433531992268341248.0000 - val_accuracy: 0.1010\n",
      "Epoch 49/50\n",
      "100/100 [==============================] - 41s 405ms/step - loss: -142685620649607561216.0000 - accuracy: 0.1005 - val_loss: -158068747096333221888.0000 - val_accuracy: 0.1030\n",
      "Epoch 50/50\n",
      "100/100 [==============================] - 42s 415ms/step - loss: -158592923871712641024.0000 - accuracy: 0.1035 - val_loss: -177641232747210997760.0000 - val_accuracy: 0.1040\n"
     ]
    }
   ],
   "source": [
    "history = model.fit(\n",
    "      train_generator,\n",
    "      steps_per_epoch=100,  #steps = total_image_train / batch_size\n",
    "      epochs=50,            #No of epochs\n",
    "      validation_data=validation_generator,\n",
    "      validation_steps=50)  #steps = total_image_test / batch_size"
   ]
  }
 ],
 "metadata": {
  "kaggle": {
   "accelerator": "none",
   "dataSources": [
    {
     "datasetId": 2529046,
     "sourceId": 4292212,
     "sourceType": "datasetVersion"
    }
   ],
   "dockerImageVersionId": 30626,
   "isGpuEnabled": false,
   "isInternetEnabled": true,
   "language": "python",
   "sourceType": "notebook"
  },
  "kernelspec": {
   "display_name": "Python 3",
   "language": "python",
   "name": "python3"
  },
  "language_info": {
   "codemirror_mode": {
    "name": "ipython",
    "version": 3
   },
   "file_extension": ".py",
   "mimetype": "text/x-python",
   "name": "python",
   "nbconvert_exporter": "python",
   "pygments_lexer": "ipython3",
   "version": "3.10.12"
  },
  "papermill": {
   "default_parameters": {},
   "duration": 2719.734128,
   "end_time": "2023-12-30T15:53:01.292121",
   "environment_variables": {},
   "exception": null,
   "input_path": "__notebook__.ipynb",
   "output_path": "__notebook__.ipynb",
   "parameters": {},
   "start_time": "2023-12-30T15:07:41.557993",
   "version": "2.4.0"
  }
 },
 "nbformat": 4,
 "nbformat_minor": 5
}
