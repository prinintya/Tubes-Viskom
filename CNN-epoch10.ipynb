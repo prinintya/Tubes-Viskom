{
 "cells": [
  {
   "cell_type": "code",
   "execution_count": 1,
   "id": "4146a001",
   "metadata": {
    "execution": {
     "iopub.execute_input": "2023-12-30T14:14:12.733857Z",
     "iopub.status.busy": "2023-12-30T14:14:12.733085Z",
     "iopub.status.idle": "2023-12-30T14:14:21.899920Z",
     "shell.execute_reply": "2023-12-30T14:14:21.899189Z"
    },
    "papermill": {
     "duration": 9.173512,
     "end_time": "2023-12-30T14:14:21.901937",
     "exception": false,
     "start_time": "2023-12-30T14:14:12.728425",
     "status": "completed"
    },
    "tags": []
   },
   "outputs": [],
   "source": [
    "import tensorflow as tf\n",
    "from tensorflow.keras.optimizers import RMSprop\n",
    "from tensorflow.keras.preprocessing.image import ImageDataGenerator\n",
    "from keras.models import Sequential\n",
    "from keras.layers import Conv2D, MaxPooling2D, Flatten, Dense, Dropout, BatchNormalization\n",
    "from keras.optimizers import RMSprop\n",
    "from keras import regularizers"
   ]
  },
  {
   "cell_type": "code",
   "execution_count": 2,
   "id": "27f07073",
   "metadata": {
    "execution": {
     "iopub.execute_input": "2023-12-30T14:14:21.908214Z",
     "iopub.status.busy": "2023-12-30T14:14:21.907767Z",
     "iopub.status.idle": "2023-12-30T14:14:21.911720Z",
     "shell.execute_reply": "2023-12-30T14:14:21.910861Z"
    },
    "papermill": {
     "duration": 0.008967,
     "end_time": "2023-12-30T14:14:21.913624",
     "exception": false,
     "start_time": "2023-12-30T14:14:21.904657",
     "status": "completed"
    },
    "tags": []
   },
   "outputs": [],
   "source": [
    "train_dir = '/kaggle/input/fruit-classification10-class/MY_data/train'\n",
    "validation_dir = '/kaggle/input/fruit-classification10-class/MY_data/test'"
   ]
  },
  {
   "cell_type": "code",
   "execution_count": 3,
   "id": "1beef7f5",
   "metadata": {
    "execution": {
     "iopub.execute_input": "2023-12-30T14:14:21.919325Z",
     "iopub.status.busy": "2023-12-30T14:14:21.918903Z",
     "iopub.status.idle": "2023-12-30T14:14:22.186031Z",
     "shell.execute_reply": "2023-12-30T14:14:22.185300Z"
    },
    "papermill": {
     "duration": 0.271775,
     "end_time": "2023-12-30T14:14:22.187661",
     "exception": false,
     "start_time": "2023-12-30T14:14:21.915886",
     "status": "completed"
    },
    "tags": []
   },
   "outputs": [
    {
     "name": "stdout",
     "output_type": "stream",
     "text": [
      "Found 2301 images belonging to 10 classes.\n",
      "Found 1025 images belonging to 10 classes.\n"
     ]
    }
   ],
   "source": [
    "\n",
    "#Data Generator\n",
    "\n",
    "#Performing some operations for more data from a single picture\n",
    "train_datagen = ImageDataGenerator(\n",
    "                                    rescale=1./255,\n",
    "                                    rotation_range=40,\n",
    "                                    width_shift_range=0.2,\n",
    "                                    height_shift_range=0.2,\n",
    "                                    shear_range=0.2,\n",
    "                                    zoom_range=0.2,\n",
    "                                    horizontal_flip=True,             #if you want to divide test and validation then add parameter: validation_split=0.2, 8-2 split\n",
    "                                    fill_mode='nearest')\n",
    "\n",
    "#We can provide same eefects to test datagen but no need as we are only testing data\n",
    "test_datagen = ImageDataGenerator(rescale=1./255)\n",
    "\n",
    "# Flow training images in batches of 20 using train_datagen generator\n",
    "train_generator = train_datagen.flow_from_directory(\n",
    "                          train_dir,               # This is the source directory for training images\n",
    "                          target_size=(150, 150),  # All images will be resized to 150x150\n",
    "                          batch_size=20,           # Since we use binary_crossentropy loss, we need binary labels\n",
    "                          class_mode='binary')     #For categorical use categorical in class mode\n",
    "                          #subset='training')      #set as training data in case you have added validation split in the datagen\n",
    "\n",
    "# Flow validation images in batches of 20 using test_datagen generator\n",
    "validation_generator = test_datagen.flow_from_directory(\n",
    "                          validation_dir,\n",
    "                          target_size=(150, 150),\n",
    "                          batch_size=20,\n",
    "                          class_mode='binary')\n",
    "                          #subset='validation')   "
   ]
  },
  {
   "cell_type": "code",
   "execution_count": 4,
   "id": "303631ea",
   "metadata": {
    "execution": {
     "iopub.execute_input": "2023-12-30T14:14:22.193718Z",
     "iopub.status.busy": "2023-12-30T14:14:22.193472Z",
     "iopub.status.idle": "2023-12-30T14:14:22.398003Z",
     "shell.execute_reply": "2023-12-30T14:14:22.397259Z"
    },
    "papermill": {
     "duration": 0.209824,
     "end_time": "2023-12-30T14:14:22.400020",
     "exception": false,
     "start_time": "2023-12-30T14:14:22.190196",
     "status": "completed"
    },
    "tags": []
   },
   "outputs": [],
   "source": [
    "#Model Making\n",
    "\n",
    "model = tf.keras.models.Sequential([\n",
    "    tf.keras.layers.Conv2D(32, (3,3), activation='relu', input_shape=(150, 150, 3)),    #Change the shape as your requirement\n",
    "    tf.keras.layers.MaxPooling2D(2, 2),\n",
    "    \n",
    "    tf.keras.layers.Conv2D(64, (3,3), activation='relu'),\n",
    "    tf.keras.layers.MaxPooling2D(2,2),\n",
    "    \n",
    "    tf.keras.layers.Conv2D(128, (3,3), activation='relu'),\n",
    "    tf.keras.layers.MaxPooling2D(2,2),\n",
    "    \n",
    "    tf.keras.layers.Conv2D(128, (3,3), activation='relu'),\n",
    "    tf.keras.layers.MaxPooling2D(2,2),\n",
    "    \n",
    "    tf.keras.layers.Dropout(0.2),                       #Helps to avoid overfitting of model by dropping some weights\n",
    "    \n",
    "    tf.keras.layers.Flatten(),\n",
    "    \n",
    "    tf.keras.layers.Dense(512, activation='relu'),\n",
    "    tf.keras.layers.Dense(1, activation='sigmoid')      #Sigmoid is used data is in binary form for categorical use softmax\n",
    "])\n",
    "\n",
    "\n",
    "#Compile Model\n",
    "\n",
    "model.compile(loss='binary_crossentropy',               #For categorical use categorical)crossentropy\n",
    "              optimizer=RMSprop(lr=1e-4),\n",
    "              metrics=['accuracy'])"
   ]
  },
  {
   "cell_type": "code",
   "execution_count": 5,
   "id": "09627f1c",
   "metadata": {
    "execution": {
     "iopub.execute_input": "2023-12-30T14:14:22.406070Z",
     "iopub.status.busy": "2023-12-30T14:14:22.405822Z",
     "iopub.status.idle": "2023-12-30T14:20:54.457863Z",
     "shell.execute_reply": "2023-12-30T14:20:54.456663Z"
    },
    "papermill": {
     "duration": 392.057197,
     "end_time": "2023-12-30T14:20:54.459914",
     "exception": false,
     "start_time": "2023-12-30T14:14:22.402717",
     "status": "completed"
    },
    "tags": []
   },
   "outputs": [
    {
     "name": "stdout",
     "output_type": "stream",
     "text": [
      "Epoch 1/10\n",
      "100/100 [==============================] - 39s 380ms/step - loss: -32446208000.0000 - accuracy: 0.1030 - val_loss: -190201708544.0000 - val_accuracy: 0.1030\n",
      "Epoch 2/10\n",
      "100/100 [==============================] - 36s 361ms/step - loss: -1478677495808.0000 - accuracy: 0.1050 - val_loss: -4644238000128.0000 - val_accuracy: 0.1020\n",
      "Epoch 3/10\n",
      "100/100 [==============================] - 37s 365ms/step - loss: -14479108603904.0000 - accuracy: 0.0964 - val_loss: -33020314648576.0000 - val_accuracy: 0.1000\n",
      "Epoch 4/10\n",
      "100/100 [==============================] - 36s 360ms/step - loss: -71657771237376.0000 - accuracy: 0.1020 - val_loss: -140876437258240.0000 - val_accuracy: 0.1010\n",
      "Epoch 5/10\n",
      "100/100 [==============================] - 36s 362ms/step - loss: -251841547862016.0000 - accuracy: 0.0994 - val_loss: -440354977349632.0000 - val_accuracy: 0.1030\n",
      "Epoch 6/10\n",
      "100/100 [==============================] - 36s 362ms/step - loss: -697464571035648.0000 - accuracy: 0.0989 - val_loss: -1132655487746048.0000 - val_accuracy: 0.1010\n",
      "Epoch 7/10\n",
      "100/100 [==============================] - 37s 364ms/step - loss: -1668241399218176.0000 - accuracy: 0.1045 - val_loss: -2587506000265216.0000 - val_accuracy: 0.1020\n",
      "Epoch 8/10\n",
      "100/100 [==============================] - 36s 361ms/step - loss: -3584057866715136.0000 - accuracy: 0.0979 - val_loss: -5287284593131520.0000 - val_accuracy: 0.0990\n",
      "Epoch 9/10\n",
      "100/100 [==============================] - 37s 366ms/step - loss: -7028540570599424.0000 - accuracy: 0.1000 - val_loss: -10006142075797504.0000 - val_accuracy: 0.1020\n",
      "Epoch 10/10\n",
      "100/100 [==============================] - 36s 361ms/step - loss: -12742001883611136.0000 - accuracy: 0.1020 - val_loss: -17652375716102144.0000 - val_accuracy: 0.1040\n"
     ]
    }
   ],
   "source": [
    "history = model.fit(\n",
    "      train_generator,\n",
    "      steps_per_epoch=100,  #steps = total_image_train / batch_size\n",
    "      epochs=10,            #No of epochs\n",
    "      validation_data=validation_generator,\n",
    "      validation_steps=50)  #steps = total_image_test / batch_size"
   ]
  },
  {
   "cell_type": "code",
   "execution_count": 6,
   "id": "628c3cb2",
   "metadata": {
    "execution": {
     "iopub.execute_input": "2023-12-30T14:20:54.576744Z",
     "iopub.status.busy": "2023-12-30T14:20:54.576454Z",
     "iopub.status.idle": "2023-12-30T14:20:54.677258Z",
     "shell.execute_reply": "2023-12-30T14:20:54.676408Z"
    },
    "papermill": {
     "duration": 0.161562,
     "end_time": "2023-12-30T14:20:54.679456",
     "exception": false,
     "start_time": "2023-12-30T14:20:54.517894",
     "status": "completed"
    },
    "tags": []
   },
   "outputs": [],
   "source": [
    "#Save the model to use it later and to save time next time\n",
    "\n",
    "model.save(\"fruitModel.keras\")"
   ]
  },
  {
   "cell_type": "code",
   "execution_count": 7,
   "id": "5ad40a67",
   "metadata": {
    "execution": {
     "iopub.execute_input": "2023-12-30T14:20:54.796511Z",
     "iopub.status.busy": "2023-12-30T14:20:54.796206Z",
     "iopub.status.idle": "2023-12-30T14:20:55.120174Z",
     "shell.execute_reply": "2023-12-30T14:20:55.119408Z"
    },
    "papermill": {
     "duration": 0.384606,
     "end_time": "2023-12-30T14:20:55.122430",
     "exception": false,
     "start_time": "2023-12-30T14:20:54.737824",
     "status": "completed"
    },
    "tags": []
   },
   "outputs": [],
   "source": [
    "import h5py\n",
    "from tensorflow import keras\n",
    "\n",
    "model = keras.models.load_model('/kaggle/working/fruitModel.keras')     #Give path to your model"
   ]
  },
  {
   "cell_type": "code",
   "execution_count": 8,
   "id": "add3cc23",
   "metadata": {
    "execution": {
     "iopub.execute_input": "2023-12-30T14:20:55.239342Z",
     "iopub.status.busy": "2023-12-30T14:20:55.238859Z",
     "iopub.status.idle": "2023-12-30T14:20:58.230772Z",
     "shell.execute_reply": "2023-12-30T14:20:58.230033Z"
    },
    "papermill": {
     "duration": 3.052341,
     "end_time": "2023-12-30T14:20:58.232441",
     "exception": false,
     "start_time": "2023-12-30T14:20:55.180100",
     "status": "completed"
    },
    "tags": []
   },
   "outputs": [
    {
     "name": "stdout",
     "output_type": "stream",
     "text": [
      "1/1 [==============================] - 0s 99ms/step\n",
      "1/1 [==============================] - 0s 20ms/step\n",
      "1/1 [==============================] - 0s 20ms/step\n",
      "1/1 [==============================] - 0s 21ms/step\n",
      "1/1 [==============================] - 0s 20ms/step\n",
      "1/1 [==============================] - 0s 22ms/step\n",
      "1/1 [==============================] - 0s 23ms/step\n",
      "1/1 [==============================] - 0s 21ms/step\n",
      "1/1 [==============================] - 0s 20ms/step\n",
      "1/1 [==============================] - 0s 24ms/step\n",
      "1/1 [==============================] - 0s 21ms/step\n",
      "1/1 [==============================] - 0s 22ms/step\n",
      "1/1 [==============================] - 0s 20ms/step\n",
      "1/1 [==============================] - 0s 22ms/step\n",
      "1/1 [==============================] - 0s 22ms/step\n",
      "1/1 [==============================] - 0s 22ms/step\n",
      "1/1 [==============================] - 0s 25ms/step\n",
      "1/1 [==============================] - 0s 24ms/step\n",
      "1/1 [==============================] - 0s 24ms/step\n",
      "1/1 [==============================] - 0s 22ms/step\n",
      "1/1 [==============================] - 0s 23ms/step\n",
      "1/1 [==============================] - 0s 23ms/step\n",
      "1/1 [==============================] - 0s 23ms/step\n",
      "1/1 [==============================] - 0s 22ms/step\n",
      "1/1 [==============================] - 0s 21ms/step\n",
      "1/1 [==============================] - 0s 22ms/step\n",
      "1/1 [==============================] - 0s 22ms/step\n",
      "1/1 [==============================] - 0s 21ms/step\n",
      "1/1 [==============================] - 0s 21ms/step\n",
      "1/1 [==============================] - 0s 22ms/step\n",
      "1/1 [==============================] - 0s 20ms/step\n",
      "1/1 [==============================] - 0s 21ms/step\n",
      "1/1 [==============================] - 0s 21ms/step\n",
      "1/1 [==============================] - 0s 24ms/step\n",
      "1/1 [==============================] - 0s 24ms/step\n",
      "1/1 [==============================] - 0s 21ms/step\n",
      "1/1 [==============================] - 0s 21ms/step\n",
      "1/1 [==============================] - 0s 21ms/step\n",
      "1/1 [==============================] - 0s 21ms/step\n",
      "1/1 [==============================] - 0s 21ms/step\n",
      "1/1 [==============================] - 0s 22ms/step\n",
      "1/1 [==============================] - 0s 23ms/step\n",
      "1/1 [==============================] - 0s 21ms/step\n",
      "1/1 [==============================] - 0s 23ms/step\n",
      "1/1 [==============================] - 0s 21ms/step\n",
      "1/1 [==============================] - 0s 20ms/step\n",
      "1/1 [==============================] - 0s 21ms/step\n",
      "1/1 [==============================] - 0s 21ms/step\n",
      "File: 0124.jpeg, Prediction: [[1.]]\n",
      "File: 023.jpeg, Prediction: [[1.]]\n",
      "File: 365.jpeg, Prediction: [[1.]]\n",
      "File: 659.jpeg, Prediction: [[1.]]\n",
      "File: img_241.jpeg, Prediction: [[1.]]\n",
      "File: 22.jpeg, Prediction: [[1.]]\n",
      "File: 9.jpeg, Prediction: [[1.]]\n",
      "File: 011.jpeg, Prediction: [[1.]]\n",
      "File: 0.jpeg, Prediction: [[1.]]\n",
      "File: img_171.jpeg, Prediction: [[1.]]\n",
      "File: img_31.jpeg, Prediction: [[1.]]\n",
      "File: img_361.jpeg, Prediction: [[1.]]\n",
      "File: img_41.jpeg, Prediction: [[1.]]\n",
      "File: img_21.jpeg, Prediction: [[1.]]\n",
      "File: img_411.jpeg, Prediction: [[1.]]\n",
      "File: 4.jpeg, Prediction: [[1.]]\n",
      "File: 2.jpeg, Prediction: [[1.]]\n",
      "File: 33.jpeg, Prediction: [[1.]]\n",
      "File: img_421.jpeg, Prediction: [[1.]]\n",
      "File: 65.jpeg, Prediction: [[1.]]\n",
      "File: img_371.jpeg, Prediction: [[1.]]\n",
      "File: 68.jpeg, Prediction: [[1.]]\n",
      "File: 99.jpeg, Prediction: [[1.]]\n",
      "File: img_01.jpeg, Prediction: [[1.]]\n",
      "File: 77.jpeg, Prediction: [[1.]]\n",
      "File: 0122.jpeg, Prediction: [[1.]]\n",
      "File: 321.jpeg, Prediction: [[1.]]\n",
      "File: 1.jpeg, Prediction: [[1.]]\n",
      "File: 202.jpeg, Prediction: [[1.]]\n",
      "File: img_381.jpeg, Prediction: [[1.]]\n",
      "File: 3.jpeg, Prediction: [[1.]]\n",
      "File: f2.jpeg, Prediction: [[1.]]\n",
      "File: img_301.jpeg, Prediction: [[1.]]\n",
      "File: f5.jpeg, Prediction: [[1.]]\n",
      "File: 00.jpeg, Prediction: [[1.]]\n",
      "File: 012.jpeg, Prediction: [[1.]]\n",
      "File: 66.jpeg, Prediction: [[1.]]\n",
      "File: f7.jpeg, Prediction: [[1.]]\n",
      "File: img_11.jpeg, Prediction: [[1.]]\n",
      "File: img_121.jpeg, Prediction: [[1.]]\n",
      "File: f0.jpeg, Prediction: [[1.]]\n",
      "File: 41.jpeg, Prediction: [[1.]]\n",
      "File: img_341.jpeg, Prediction: [[1.]]\n",
      "File: 147.jpeg, Prediction: [[1.]]\n",
      "File: f1.jpeg, Prediction: [[1.]]\n",
      "File: img_191.jpeg, Prediction: [[1.]]\n",
      "File: img_141.jpeg, Prediction: [[1.]]\n",
      "File: img_401.jpeg, Prediction: [[1.]]\n"
     ]
    }
   ],
   "source": [
    "from keras.preprocessing import image\n",
    "import numpy as np\n",
    "import os  # Add import for the os module\n",
    "\n",
    "status = ['First', 'Second']  # Rename this as per your needs, e.g., Cat or dog, house or horse, etc.\n",
    "path = '/kaggle/input/fruit-classification10-class/MY_data/predict'  # Path to the directory containing images you want to predict\n",
    "\n",
    "# List to store predictions\n",
    "predictions = []\n",
    "\n",
    "# Iterate over images in the directory\n",
    "for file_name in os.listdir(path):\n",
    "    if file_name.endswith(\".jpeg\") or file_name.endswith(\".jpg\"):\n",
    "        # Construct the full path to the image\n",
    "        img_path = os.path.join(path, file_name)\n",
    "\n",
    "        # Load and preprocess the image\n",
    "        img = image.load_img(img_path, target_size=(150, 150))\n",
    "        x = image.img_to_array(img)\n",
    "        x = np.expand_dims(x, axis=0)\n",
    "\n",
    "        # Make predictions\n",
    "        prediction = model.predict(x)\n",
    "        predictions.append((file_name, prediction))\n",
    "\n",
    "# Print or process the predictions as needed\n",
    "for file_name, prediction in predictions:\n",
    "    print(f\"File: {file_name}, Prediction: {prediction}\")\n",
    "    "
   ]
  }
 ],
 "metadata": {
  "kaggle": {
   "accelerator": "none",
   "dataSources": [
    {
     "datasetId": 2529046,
     "sourceId": 4292212,
     "sourceType": "datasetVersion"
    }
   ],
   "dockerImageVersionId": 30626,
   "isGpuEnabled": false,
   "isInternetEnabled": true,
   "language": "python",
   "sourceType": "notebook"
  },
  "kernelspec": {
   "display_name": "Python 3",
   "language": "python",
   "name": "python3"
  },
  "language_info": {
   "codemirror_mode": {
    "name": "ipython",
    "version": 3
   },
   "file_extension": ".py",
   "mimetype": "text/x-python",
   "name": "python",
   "nbconvert_exporter": "python",
   "pygments_lexer": "ipython3",
   "version": "3.10.12"
  },
  "papermill": {
   "default_parameters": {},
   "duration": 409.077557,
   "end_time": "2023-12-30T14:20:59.519731",
   "environment_variables": {},
   "exception": null,
   "input_path": "__notebook__.ipynb",
   "output_path": "__notebook__.ipynb",
   "parameters": {},
   "start_time": "2023-12-30T14:14:10.442174",
   "version": "2.4.0"
  }
 },
 "nbformat": 4,
 "nbformat_minor": 5
}
